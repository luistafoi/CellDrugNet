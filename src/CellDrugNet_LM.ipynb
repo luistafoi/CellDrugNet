{
 "cells": [
  {
   "cell_type": "code",
   "execution_count": null,
   "id": "6d5a9f2c-d60e-4267-88d7-c4b6deff7eb0",
   "metadata": {},
   "outputs": [],
   "source": [
    "import pandas as pd\n",
    "import numpy as np\n",
    "import torch\n",
    "from torch_geometric.data import Data\n",
    "from torch_geometric.nn import GCNConv, GATConv\n",
    "from torch_geometric.utils import negative_sampling\n",
    "import torch.nn.functional as F\n",
    "from sklearn.model_selection import train_test_split\n",
    "from sklearn.metrics import roc_auc_score, average_precision_score, roc_curve, accuracy_score\n",
    "import matplotlib.pyplot as plt\n",
    "import networkx as nx\n",
    "from torch_geometric.utils import from_networkx, to_undirected\n"
   ]
  },
  {
   "cell_type": "code",
   "execution_count": 7,
   "id": "a15760e6",
   "metadata": {},
   "outputs": [
    {
     "name": "stdout",
     "output_type": "stream",
     "text": [
      "Using device: cuda\n"
     ]
    }
   ],
   "source": [
    "# Check if CUDA is available\n",
    "device = torch.device('cuda' if torch.cuda.is_available() else 'cpu')\n",
    "print(f\"Using device: {device}\")"
   ]
  },
  {
   "cell_type": "code",
   "execution_count": 8,
   "id": "2affbaa0",
   "metadata": {},
   "outputs": [],
   "source": [
    "# Load and combine the embeddings, ensuring all are reduced to 512 dimensions\n",
    "embedding_paths = {\n",
    "    'gene': '/data/luis/Embeddings_512/gene_embeddings_512.csv',\n",
    "    'drug': '/data/dandreas/cellDrugNet/drug_embeddings_chemberta_512.csv', \n",
    "    'cell': '/data/luis/Embeddings_512/cell_embeddings_512.csv'\n",
    "}"
   ]
  },
  {
   "cell_type": "code",
   "execution_count": 9,
   "id": "c16c6971",
   "metadata": {},
   "outputs": [],
   "source": [
    "def load_embeddings(paths):\n",
    "    all_embeddings = {}\n",
    "    for entity_type, path in paths.items():\n",
    "        df = pd.read_csv(path)\n",
    "        for _, row in df.iterrows():\n",
    "            all_embeddings[row[0]] = row[1:].astype(np.float32).values\n",
    "    return all_embeddings\n",
    "\n",
    "embeddings = load_embeddings(embedding_paths)"
   ]
  },
  {
   "cell_type": "code",
   "execution_count": 10,
   "id": "62b060f1-08f0-448e-803b-1560b95ea8e1",
   "metadata": {},
   "outputs": [],
   "source": [
    "## DATASETS ##\n",
    "##------------------------------GENE-TO-CELL-----------------------------------##\n",
    "# Load and preprocess the gene-to-cell dataset\n",
    "df_gene_cell = pd.read_csv('/data/luis/Datasets/genetocell.csv')  \n",
    "df_gene_cell = df_gene_cell[['cell', 'gene']]\n",
    "\n",
    "\n",
    "##------------------------------CELL-TO-DRUG-----------------------------------##\n",
    "# Load and preprocess the cell-to-drug dataset\n",
    "df_cell_drug = pd.read_csv('/data/mikaela/Drug_Response_SMILES_transformed_filtered.csv', index_col = 0) \n",
    "#print(df_cell_drug.head())\n",
    "#print(\"Shape original df_cell_drug: \", df_cell_drug.shape)\n",
    "\n",
    "# Convert the cell-drug matrix to an edge list\n",
    "cell_drug_edges = []\n",
    "for cell in df_cell_drug.index: # Iterate over the row indices (cells) of the DataFrame\n",
    "    for smiles in df_cell_drug.columns: # Iterate over the column names (SMILES string) of the DataFrame\n",
    "        if df_cell_drug.loc[cell, smiles] == 1: # If the cell-drug pair has a value of 1 indicating there is a connection\n",
    "            cell_drug_edges.append([cell, smiles]) # If there is a connection, the pair '[cell, smiles]' is added to the edge list\n",
    "\n",
    "# Convert edge list to DataFrame\n",
    "df_cell_drug = pd.DataFrame(cell_drug_edges, columns=['cell', 'SMILES'])\n",
    "#print(\"Shape df_cell_drug: \", df_cell_drug.shape)\n",
    "#print(\"Shape of cell_drug_edges: \", cell_drug_edges[:5])\n",
    "\n",
    "\n",
    "##------------------------------GENE-TO-DRUG------------------------------------##\n",
    "df_gene_drug = pd.read_csv('/data/luis/Datasets/GNN_drug_smiles2_no_NaN.csv')  \n",
    "df_gene_drug = df_gene_drug[['Gene', 'SMILES2']]\n",
    "df_gene_drug.rename(columns={'SMILES2': 'SMILES'}, inplace=True)\n"
   ]
  },
  {
   "cell_type": "code",
   "execution_count": 11,
   "id": "625b5fbd-0dfa-48cf-a3e3-f3ddfa4cafdf",
   "metadata": {},
   "outputs": [],
   "source": [
    "## PPI DATA ##\n",
    "ppi_data = pd.read_csv('/data/luis/Datasets/gene_gene_association_f.csv')"
   ]
  },
  {
   "cell_type": "code",
   "execution_count": 12,
   "id": "c4a8dd11-2f73-4ad8-90d2-3fc0e99ab4a6",
   "metadata": {},
   "outputs": [
    {
     "name": "stdout",
     "output_type": "stream",
     "text": [
      "Length genes:  19483\n",
      "Length cells:  1751\n",
      "Length drugs:  5474\n"
     ]
    }
   ],
   "source": [
    "genes = np.unique(np.concatenate([df_gene_cell['gene'], df_gene_drug['Gene']]))\n",
    "cells = np.unique(np.concatenate([df_gene_cell['cell'], df_cell_drug['cell']]))\n",
    "drugs = np.unique(np.concatenate([df_gene_drug['SMILES'], df_cell_drug['SMILES']]))\n",
    "\n",
    "print(\"Length genes: \", len(genes))\n",
    "print(\"Length cells: \", len(cells))\n",
    "print(\"Length drugs: \", len(drugs))\n",
    "\n",
    "## MAPPINGS ##\n",
    "gene2idx = {gene: i for i, gene in enumerate(genes)} \n",
    "cell2idx = {cell: i + len(genes) for i, cell in enumerate(cells)} \n",
    "drug2idx = {drug: i + len(genes) + len(cells) for i, drug in enumerate(drugs)} "
   ]
  },
  {
   "cell_type": "code",
   "execution_count": 13,
   "id": "05ed9cf4-5839-4161-8742-9de03095a0f9",
   "metadata": {},
   "outputs": [],
   "source": [
    "num_nodes = len(genes) + len(cells) + len(drugs) # total number of unique nodes\n",
    "embedding_dim = 512 #768  # Dimension of node embeddings\n",
    "node_features = torch.zeros((num_nodes, embedding_dim), dtype=torch.float32) # Initialize node features tensor"
   ]
  },
  {
   "cell_type": "code",
   "execution_count": 14,
   "id": "2770e3fe-11c3-4a0f-aec7-41ccdc28ef9e",
   "metadata": {},
   "outputs": [
    {
     "name": "stdout",
     "output_type": "stream",
     "text": [
      "Number of genes in embeddings: 13805\n",
      "Number of cells in embeddings: 998\n",
      "Number of drugs in embeddings: 5474\n"
     ]
    }
   ],
   "source": [
    "# Fill in the node features with the pre-trained embeddings\n",
    "num_genes = 0\n",
    "num_cells = 0\n",
    "num_drugs = 0\n",
    "\n",
    "for gene in genes:\n",
    "    if gene in embeddings:\n",
    "        node_features[gene2idx[gene]] = torch.tensor(embeddings[gene], dtype=torch.float32)\n",
    "        num_genes += 1\n",
    "for cell in cells:\n",
    "    if cell in embeddings:\n",
    "        node_features[cell2idx[cell]] = torch.tensor(embeddings[cell], dtype=torch.float32)\n",
    "        num_cells += 1\n",
    "for drug in drugs:\n",
    "    if drug in embeddings:\n",
    "        node_features[drug2idx[drug]] = torch.tensor(embeddings[drug], dtype=torch.float32)\n",
    "        num_drugs += 1\n",
    "\n",
    "print(f\"Number of genes in embeddings: {num_genes}\")\n",
    "print(f\"Number of cells in embeddings: {num_cells}\")\n",
    "print(f\"Number of drugs in embeddings: {num_drugs}\")"
   ]
  },
  {
   "cell_type": "code",
   "execution_count": 15,
   "id": "cb795453-e7cd-4162-951e-d5ad1a1fab5b",
   "metadata": {},
   "outputs": [],
   "source": [
    "edges = [] # These are positive edges\n",
    "\n",
    "# gene - cell edges\n",
    "for _, row in df_gene_cell.iterrows(): \n",
    "    gene_idx = gene2idx[row['gene']] \n",
    "    cell_idx = cell2idx[row['cell']]\n",
    "    edges.append([gene_idx, cell_idx]) \n",
    "\n",
    "# cell - drug edges\n",
    "for _, row in df_cell_drug.iterrows():\n",
    "    cell_idx = cell2idx[row['cell']] \n",
    "    drug_idx = drug2idx[row['SMILES']] \n",
    "    edges.append([cell_idx, drug_idx]) \n",
    "    \n",
    "# Drug-Gene edges\n",
    "for _, row in df_gene_drug.iterrows():\n",
    "    drug_idx = drug2idx[row['SMILES']] \n",
    "    gene_idx = gene2idx[row['Gene']] \n",
    "    edges.append([drug_idx, gene_idx]) \n",
    "edges = np.array(edges)\n",
    "#print(edges.size)"
   ]
  },
  {
   "cell_type": "code",
   "execution_count": 36,
   "id": "adacba0c-4f8b-4abd-8e8a-a986aaa337e2",
   "metadata": {},
   "outputs": [],
   "source": [
    "## Add PPI Edges ##\n",
    "G = nx.Graph()\n",
    "\n",
    "for _, row in ppi_data.iterrows():\n",
    "    if row['Gene1'] in gene2idx and row['Gene2'] in gene2idx:\n",
    "        gene1_idx = gene2idx[row['Gene1']]\n",
    "        gene2_idx = gene2idx[row['Gene2']]\n",
    "        G.add_edge(gene1_idx, gene2_idx)\n",
    "\n",
    "# Add all nodes that are in gene2idx to the graph to avoid missing nodes (undirected convention)\n",
    "G.add_nodes_from(gene2idx.values())\n",
    "\n",
    "# Convert the NetworkX graph to PyTorch Geometric format\n",
    "edge_index = from_networkx(G).edge_index\n",
    "\n",
    "# Ensure edges are undirected\n",
    "edge_index = to_undirected(edge_index)\n",
    "\n",
    "# Convert edge_index back to numpy and extend the edges list\n",
    "ppi_edges = edge_index.cpu().numpy().T\n",
    "edges = edges.tolist()\n",
    "edges.extend(ppi_edges.tolist())\n",
    "\n",
    "# Convert edges to torch format\n",
    "edges = torch.tensor(edges, dtype=torch.long).t().contiguous().to(device)\n"
   ]
  },
  {
   "cell_type": "code",
   "execution_count": 37,
   "id": "a93e54a9-dd76-4f63-97ba-16b59ff08736",
   "metadata": {},
   "outputs": [
    {
     "name": "stdout",
     "output_type": "stream",
     "text": [
      "cell drug edges:  26441\n",
      "all other edges:  1312102\n"
     ]
    }
   ],
   "source": [
    "## Divide up specific edges: cell - drug edges and all other edges ##\n",
    "\n",
    "cell_indices_set = set(cell2idx.values())\n",
    "drug_indices_set = set(drug2idx.values())\n",
    "\n",
    "cell_drug_edges = []\n",
    "other_edges = []\n",
    "\n",
    "for i in range(edges.size(1)):\n",
    "    src, dst = edges[0, i].item(), edges[1, i].item()\n",
    "    if (src in cell_indices_set and dst in drug_indices_set) or (src in drug_indices_set and dst in cell_indices_set):\n",
    "        cell_drug_edges.append([src, dst])\n",
    "    else:\n",
    "        other_edges.append([src, dst])\n",
    "\n",
    "print(\"cell drug edges: \", len(cell_drug_edges))\n",
    "print(\"all other edges: \", len(other_edges))\n",
    "\n",
    "## Convert edge lists in tensors ##\n",
    "cell_drug_edges = torch.tensor(cell_drug_edges, dtype=torch.long).t().to(device)\n",
    "other_edges = torch.tensor(other_edges, dtype=torch.long).t().to(device)"
   ]
  },
  {
   "cell_type": "code",
   "execution_count": 38,
   "id": "9f5a6ce5-771b-4b67-a6d7-1f7f03cff3e1",
   "metadata": {},
   "outputs": [
    {
     "name": "stdout",
     "output_type": "stream",
     "text": [
      "Train cell drug edges size:  21152\n",
      "Test cell drug edges size:  5289\n"
     ]
    }
   ],
   "source": [
    "## Split edges into Training and Testing Sets ##\n",
    "\n",
    "train_cell_drug_edges, test_cell_drug_edges = train_test_split(cell_drug_edges.t().cpu().numpy(), test_size=0.2, random_state=1234) \n",
    "\n",
    "# Convert back to PyTorch Tensors\n",
    "train_cell_drug_edges = torch.tensor(train_cell_drug_edges, dtype=torch.long).t().to(device)\n",
    "print(\"Train cell drug edges size: \", train_cell_drug_edges.size(1))\n",
    "test_cell_drug_edges = torch.tensor(test_cell_drug_edges, dtype=torch.long).t().to(device)\n",
    "print(\"Test cell drug edges size: \", test_cell_drug_edges.size(1))\n"
   ]
  },
  {
   "cell_type": "code",
   "execution_count": 39,
   "id": "c04492f2-db68-4a06-b489-36063f9f8116",
   "metadata": {},
   "outputs": [],
   "source": [
    "## Clone the original edges index for reference ##\n",
    "original_edge_index = edges.clone().to(device)"
   ]
  },
  {
   "cell_type": "code",
   "execution_count": 40,
   "id": "1fa0488f-d025-4cec-bb80-41544e49b938",
   "metadata": {},
   "outputs": [
    {
     "name": "stdout",
     "output_type": "stream",
     "text": [
      "torch.Size([2, 1333254])\n",
      "Shape of train_edge_index:  1333254\n"
     ]
    }
   ],
   "source": [
    "## Remove the edges in cell_drug_edge_index for training ##\n",
    "'''\n",
    "'edges.size(1)': retreives the size of the second dimension [2, num_edges] = num_edges and creates a 1D tensor filled with ones with len(num_edges)\n",
    "'dtype=torch.bool': sets all 1s = True, so each element in tensor will be 'True'.\n",
    "'device=edge_index.device': ensures the 'mask' tensor is created on the same device as 'edge_index'\n",
    "'''\n",
    "mask = torch.ones(edges.size(1), dtype=torch.bool, device=edges.device)\n",
    "\n",
    "for i in range(cell_drug_edges.size(1)): # iterating over each 'cell_drug_edge', size 'cell_drug_edge.size(1)'\n",
    "    '''\n",
    "    'edges[0] == cell_drug_edges[0, i]' check source node of any edge in 'edge_index' matches source node in 'cell_drug_edge'\n",
    "    'edges[1] == cell_drug_edges[1, i]' checks if target node of any edge in 'edge_index' matches target node in 'cell_drug_edge'\n",
    "    '''\n",
    "    match = (edges[0] == cell_drug_edges[0, i]) & (edges[1] == cell_drug_edges[1, i])\n",
    "    mask = mask & ~match # Updates 'mask' by setting elements to 'False' where there is a match between an edge in 'edge_index' and the current 'cell_drug_edge'\n",
    "    # This EXCLUDES these matching edges from further processing\n",
    "    \n",
    "# This includes all edges EXCEPT those edges that match in 'edge_index' and 'cell_drug_index' that aren't already in 'train_cell_drug_edges'\n",
    "train_edge_index = torch.cat([original_edge_index[:, mask], train_cell_drug_edges], dim=1).to(device)\n",
    "print(train_edge_index.shape)\n",
    "print(\"Shape of train_edge_index: \", train_edge_index.size(1))"
   ]
  },
  {
   "cell_type": "code",
   "execution_count": 41,
   "id": "727313bc-e9ee-4b64-955c-961261a6f0fa",
   "metadata": {},
   "outputs": [
    {
     "name": "stdout",
     "output_type": "stream",
     "text": [
      "train_data_cd size:  26714\n",
      "Number of edges in train_data_cd:  21152\n",
      "train_data size:  26714\n",
      "Number of edges in train_data:  1333254\n",
      "Number of edges in test_data:  5289\n"
     ]
    }
   ],
   "source": [
    "## Prepare the Data Objects ##\n",
    "train_data_cd = Data(x=node_features, edge_index=train_cell_drug_edges).to(device) \n",
    "train_data = Data(x=node_features, edge_index=train_edge_index).to(device) \n",
    "test_data = Data(x=node_features, edge_index=test_cell_drug_edges).to(device) \n",
    "\n",
    "\n",
    "# print(\"train_data_cd size: \", train_data_cd.size(1))\n",
    "# print(\"Number of edges in train_data_cd: \", train_data_cd.edge_index.size(1))\n",
    "# print(\"train_data size: \", train_data.size(1))\n",
    "# print(\"Number of edges in train_data: \", train_data.edge_index.size(1))\n",
    "# print(\"Number of edges in test_data: \", test_data.edge_index.size(1))"
   ]
  },
  {
   "cell_type": "code",
   "execution_count": 42,
   "id": "acac5414",
   "metadata": {},
   "outputs": [],
   "source": [
    "## Positive and Negative samples for cell - drug edges ##\n",
    "def generate_cell_drug_edge_samples_with_split(cell_nodes, drug_nodes, train_pos_edge_index, test_pos_edge_index, num_neg_samples):\n",
    "    # Generate all possible edges between the given 'cell_nodes' and 'drug_nodes'. Results in every possible pair of cell and drug nodes.\n",
    "    all_possible_edges = torch.cartesian_prod(cell_nodes, drug_nodes)\n",
    "\n",
    "    # Convert existing positive edges to a set \n",
    "    train_pos_edges_set = set(map(tuple, train_pos_edge_index.t().tolist()))\n",
    "    test_pos_edges_set = set(map(tuple, test_pos_edge_index.t().tolist()))\n",
    "\n",
    "    # Combine both sets to exclude any edges that is in either the training or testing positive edge sets\n",
    "    all_pos_edges_set = test_pos_edges_set.union(train_pos_edges_set)\n",
    "\n",
    "    # Filter out positive edges to get candidate negative edges\n",
    "    candidate_neg_edges = [tuple(edge.tolist()) for edge in all_possible_edges if tuple(edge.tolist()) not in all_pos_edges_set]\n",
    "    \n",
    "    if len(candidate_neg_edges) < num_neg_samples:\n",
    "        print(f\"Warning: Only {len(candidate_neg_edges)} negative samples available, fewer than requested {num_neg_samples}.\")\n",
    "        num_neg_samples = len(candidate_neg_edges)\n",
    "\n",
    "    # Randomly select a number of negative samples, from remaining 'candidate_neg_edges', equal to num_neg_samples\n",
    "    neg_edge_index = torch.tensor(candidate_neg_edges, dtype=torch.long).T\n",
    "    neg_edge_index = neg_edge_index[:, torch.randperm(neg_edge_index.size(1))[:num_neg_samples]]\n",
    "\n",
    "    # Split the negative edges into training and testing sets\n",
    "    split_idx = int(0.8 * num_neg_samples) # Calculate the split index\n",
    "    neg_train_edge_index = neg_edge_index[:, :split_idx] # Split the negative edges into training set, first 80%\n",
    "    neg_test_edge_index = neg_edge_index[:, split_idx:] # Split the negative edges into testing set, last 20%\n",
    "\n",
    "\n",
    "    return neg_train_edge_index, neg_test_edge_index"
   ]
  },
  {
   "cell_type": "code",
   "execution_count": 43,
   "id": "f5b20318",
   "metadata": {},
   "outputs": [
    {
     "name": "stdout",
     "output_type": "stream",
     "text": [
      "train_cd_neg_edge size:  21152\n",
      "test size:  5289\n"
     ]
    }
   ],
   "source": [
    "## train cd negative edges ##\n",
    "## Preparing cell and drug nodes for intput into generate_cell_drug_edge_samples() ##\n",
    "cell_nodes = torch.tensor(list(cell2idx.values()), dtype=torch.long).to(device)\n",
    "drugs_nodes = torch.tensor(list(drug2idx.values()), dtype=torch.long).to(device)\n",
    "\n",
    "num_train_pos_edges = train_data_cd.edge_index.size(1)\n",
    "num_test_pos_edges = test_data.edge_index.size(1)\n",
    "\n",
    "# Total number of positive edges\n",
    "total_num_pos_edges = num_train_pos_edges + num_test_pos_edges\n",
    "\n",
    "train_cd_neg_edge, cell_drug_neg_edges = generate_cell_drug_edge_samples_with_split(cell_nodes, drugs_nodes, train_data_cd.edge_index, test_data.edge_index, total_num_pos_edges)\n",
    "\n",
    "print(\"train_cd_neg_edge size: \", train_cd_neg_edge.size(1))\n",
    "print(\"test size: \", cell_drug_neg_edges.size(1))"
   ]
  },
  {
   "cell_type": "code",
   "execution_count": 44,
   "id": "9a755590-c4f3-4462-876d-8de7b6cebf7f",
   "metadata": {},
   "outputs": [],
   "source": [
    "class GCN(torch.nn.Module):\n",
    "    def __init__(self):\n",
    "        super(GCN, self).__init__()\n",
    "        self.conv1 = GCNConv(embedding_dim, 128)\n",
    "        self.conv2 = GCNConv(128, 64)\n",
    "        self.conv3 = GCNConv(64, 64)\n",
    "        self.leaky_relu = torch.nn.LeakyReLU(negative_slope=0.2)  \n",
    "\n",
    "    def forward(self, x, edge_index):\n",
    "        # convolution layer 1\n",
    "        x = self.conv1(x, edge_index)\n",
    "        x = self.leaky_relu(x)\n",
    "        x = F.dropout(x, p=0.3, training=self.training)\n",
    "\n",
    "        # convolution layer 2\n",
    "        x = self.conv2(x, edge_index)\n",
    "        x = self.leaky_relu(x)\n",
    "        x = F.dropout(x, p=0.3, training=self.training)\n",
    "\n",
    "        # convolution layer 3\n",
    "        x = self.conv3(x, edge_index)\n",
    "        return x\n",
    "    \n",
    "    def decode(self, z, pos_edge_index, neg_edge_index):\n",
    "        edge_index = torch.cat([pos_edge_index, neg_edge_index], dim=-1)\n",
    "        logits = (z[edge_index[0]] * z[edge_index[1]]).sum(dim=-1)\n",
    "\n",
    "        return logits"
   ]
  },
  {
   "cell_type": "code",
   "execution_count": 45,
   "id": "a0f43a88-171f-496c-91fb-8f68bb48cf6a",
   "metadata": {},
   "outputs": [],
   "source": [
    "model = GCN().to(device) \n",
    "optimizer = torch.optim.Adam(model.parameters(), lr=0.005, weight_decay=5e-4)\n",
    "criterion = torch.nn.BCEWithLogitsLoss()\n",
    "sigmoid = torch.nn.Sigmoid()\n",
    "train_losses = []\n",
    "\n",
    "def train():\n",
    "    model.train()\n",
    "    optimizer.zero_grad()\n",
    "    z = model(train_data.x, train_data.edge_index) \n",
    "    \n",
    "    pos_samples = train_data_cd.edge_index \n",
    "    neg_samples = train_cd_neg_edge.to(device)\n",
    "    labels = torch.cat([torch.ones(pos_samples.size(1)), torch.zeros(neg_samples.size(1))]).to(device) \n",
    "    \n",
    "    logits = model.decode(z, pos_samples, neg_samples).to(device) \n",
    "                        \n",
    "    loss = criterion(logits, labels) \n",
    "    loss.backward()\n",
    "    optimizer.step()\n",
    "\n",
    "    train_losses.append(loss.item())\n",
    "    \n",
    "    return loss.item()\n"
   ]
  },
  {
   "cell_type": "code",
   "execution_count": null,
   "id": "6605e355-1f10-402f-bbf0-2ceadcb48a8d",
   "metadata": {},
   "outputs": [],
   "source": [
    "patience = 20 # Number of epochs to wair for improvement\n",
    "patience_counter = 0 # Keeps track of how many epochs since the last improvement\n",
    "best_train_loss = float('inf') # Initialize the best loss to infinity\n",
    "\n",
    "# Training Loop\n",
    "for epoch in range(1, 1001):\n",
    "    loss = train()  \n",
    "    \n",
    "    if epoch % 10 == 0:\n",
    "        print(f'Epoch {epoch}, Loss: {loss:.4f}')\n",
    "\n",
    "        if loss < best_train_loss:\n",
    "            best_train_loss = loss\n",
    "            patience_counter = 0\n",
    "        else:\n",
    "            patience_counter += 1\n",
    "        \n",
    "        # Early stopping condition based on trainig loss\n",
    "        if patience_counter >= patience:\n",
    "            print(f'Early stopping: Training loss has not improved for the last {patience} epochs.')\n",
    "            break\n"
   ]
  },
  {
   "cell_type": "code",
   "execution_count": 49,
   "id": "6831955d-c2b3-4ff3-a469-fa6d84d3f64b",
   "metadata": {},
   "outputs": [],
   "source": [
    "## INCLUDES ALL EDGES (drug, cell, gene nodes) ##\n",
    "\n",
    "def eval_specific_edges(model, pos_edge_index, neg_edge_index):\n",
    "    model.eval()\n",
    "    with torch.no_grad():\n",
    "        z = model(test_data.x, train_data.edge_index)\n",
    "        logits = model.decode(z, pos_edge_index, neg_edge_index)\n",
    "\n",
    "    pos_pred = logits[:pos_edge_index.size(1)]\n",
    "    neg_pred = logits[pos_edge_index.size(1):]\n",
    "\n",
    "    pos_label = torch.ones(pos_edge_index.size(1), device=device)\n",
    "    neg_label = torch.zeros(neg_edge_index.size(1), device=device)\n",
    "\n",
    "    label = torch.cat([pos_label, neg_label]).cpu()\n",
    "    pred = torch.cat([torch.sigmoid(pos_pred), torch.sigmoid(neg_pred)]).cpu()\n",
    "\n",
    "    accuracy = accuracy_score(label, (pred > 0.5).int())\n",
    "    roc_auc = roc_auc_score(label, pred)\n",
    "\n",
    "    print(f'Accuracy: {accuracy:.4f}')\n",
    "    print(f'AUC: {roc_auc:.4f}')\n",
    "\n",
    "\n",
    "    # Plot ROC curve\n",
    "    fpr, tpr, _ = roc_curve(label, pred)\n",
    "    plt.figure()\n",
    "    plt.plot(fpr, tpr, label=f'ROC curve (area = {roc_auc:.4f})')\n",
    "    plt.plot([0, 1], [0, 1], 'k--')\n",
    "    plt.xlim([0.0, 1.0])\n",
    "    plt.ylim([0.0, 1.05])\n",
    "    plt.xlabel('False Positive Rate')\n",
    "    plt.ylabel('True Positive Rate')\n",
    "    plt.title('ROC Curve')\n",
    "    plt.legend(loc=\"lower right\")\n",
    "    plt.show()\n",
    "    \n",
    "    return accuracy, roc_auc"
   ]
  },
  {
   "cell_type": "code",
   "execution_count": null,
   "id": "c0bb2bf8-171c-4822-bc6c-0c1577c762b7",
   "metadata": {},
   "outputs": [],
   "source": [
    "test_auc = eval_specific_edges(model, test_data.edge_index.to(device), cell_drug_neg_edges.to(device))"
   ]
  }
 ],
 "metadata": {
  "kernelspec": {
   "display_name": "Python 3 (ipykernel)",
   "language": "python",
   "name": "python3"
  },
  "language_info": {
   "codemirror_mode": {
    "name": "ipython",
    "version": 3
   },
   "file_extension": ".py",
   "mimetype": "text/x-python",
   "name": "python",
   "nbconvert_exporter": "python",
   "pygments_lexer": "ipython3",
   "version": "3.11.5"
  }
 },
 "nbformat": 4,
 "nbformat_minor": 5
}
